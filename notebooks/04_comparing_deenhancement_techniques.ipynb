{
 "cells": [
  {
   "cell_type": "markdown",
   "id": "9816bc17",
   "metadata": {},
   "source": [
    "# Notebook 3: Comparing Image De-Enhancement Methods\n",
    "\n",
    "In this notebook, we compare two major approaches to \"de-enhancing\" or simplifying an image:\n",
    "\n",
    "1. **Pixel Downsampling (Resolution Reduction)**  \n",
    "   - The real-world way of reducing resolution.  \n",
    "   - Literally decreases the number of pixels by resizing the image.  \n",
    "   - Results in a blocky, pixelated look.  \n",
    "\n",
    "2. **SVD Truncation (Singular Value Dropping)**  \n",
    "   - A linear algebra method using the Singular Value Decomposition.  \n",
    "   - Instead of reducing pixel count, we drop some singular values that represent fine details.  \n",
    "   - Produces a smoother, blurred look instead of blockiness.  \n",
    "\n",
    "We’ll apply both methods to the same images and discuss why you might use one method or the other."
   ]
  },
  {
   "cell_type": "code",
   "execution_count": 2,
   "id": "cb536aee",
   "metadata": {
    "vscode": {
     "languageId": "plaintext"
    }
   },
   "outputs": [
    {
     "ename": "ImportError",
     "evalue": "cannot import name 'compute_svd' from 'svd_utils' (/Users/jonah/Documents/Coding/Personal/GitHub/svd-image-lab/src/svd_image_lab/svd_utils.py)",
     "output_type": "error",
     "traceback": [
      "\u001b[31m---------------------------------------------------------------------------\u001b[39m",
      "\u001b[31mImportError\u001b[39m                               Traceback (most recent call last)",
      "\u001b[36mCell\u001b[39m\u001b[36m \u001b[39m\u001b[32mIn[2]\u001b[39m\u001b[32m, line 10\u001b[39m\n\u001b[32m      8\u001b[39m \u001b[38;5;66;03m# Add src/ to Python path\u001b[39;00m\n\u001b[32m      9\u001b[39m sys.path.append(os.path.abspath(\u001b[33m\"\u001b[39m\u001b[33m../src/svd_image_lab\u001b[39m\u001b[33m\"\u001b[39m))\n\u001b[32m---> \u001b[39m\u001b[32m10\u001b[39m \u001b[38;5;28;01mfrom\u001b[39;00m\u001b[38;5;250m \u001b[39m\u001b[34;01msvd_utils\u001b[39;00m\u001b[38;5;250m \u001b[39m\u001b[38;5;28;01mimport\u001b[39;00m compute_svd, reconstruct_matrix\n\u001b[32m     12\u001b[39m \u001b[38;5;66;03m# Load sample images\u001b[39;00m\n\u001b[32m     13\u001b[39m images = {\n\u001b[32m     14\u001b[39m     \u001b[33m\"\u001b[39m\u001b[33mLenna\u001b[39m\u001b[33m\"\u001b[39m: io.imread(\u001b[33m\"\u001b[39m\u001b[33mimages/lenna.png\u001b[39m\u001b[33m\"\u001b[39m),\n\u001b[32m     15\u001b[39m     \u001b[33m\"\u001b[39m\u001b[33mCamera\u001b[39m\u001b[33m\"\u001b[39m: io.imread(\u001b[33m\"\u001b[39m\u001b[33mimages/camera.png\u001b[39m\u001b[33m\"\u001b[39m),\n\u001b[32m     16\u001b[39m     \u001b[33m\"\u001b[39m\u001b[33mLandscape\u001b[39m\u001b[33m\"\u001b[39m: io.imread(\u001b[33m\"\u001b[39m\u001b[33mimages/landscape.png\u001b[39m\u001b[33m\"\u001b[39m)\n\u001b[32m     17\u001b[39m }\n",
      "\u001b[31mImportError\u001b[39m: cannot import name 'compute_svd' from 'svd_utils' (/Users/jonah/Documents/Coding/Personal/GitHub/svd-image-lab/src/svd_image_lab/svd_utils.py)"
     ]
    }
   ],
   "source": [
    "# Imports\n",
    "import numpy as np\n",
    "import matplotlib.pyplot as plt\n",
    "from skimage import io, transform, color\n",
    "import sys\n",
    "import os\n",
    "\n",
    "# Add src/ to Python path\n",
    "sys.path.append(os.path.abspath(\"../src/svd_image_lab\"))\n",
    "from svd_utils import compute_svd, reconstruct_matrix\n",
    "\n",
    "# Load sample images\n",
    "images = {\n",
    "    \"Lenna\": io.imread(\"images/lenna.png\"),\n",
    "    \"Camera\": io.imread(\"images/camera.png\"),\n",
    "    \"Landscape\": io.imread(\"images/landscape.png\")\n",
    "}\n",
    "\n",
    "# Convert to grayscale for consistency\n",
    "for name, img in images.items():\n",
    "    if img.ndim == 3:\n",
    "        images[name] = color.rgb2gray(img)\n"
   ]
  },
  {
   "cell_type": "markdown",
   "id": "8cc9914b",
   "metadata": {},
   "source": [
    "## Part 1: Pixel Downsampling (Resolution Reduction)\n",
    "\n",
    "This is the standard way of lowering image resolution.  \n",
    "We resize the image to a smaller width and height, then scale it back up to its original size for comparison.\n",
    "\n",
    "- **What’s happening?**  \n",
    "  Fewer pixels → less detail is captured.  \n",
    "  When scaled back up, the image looks blocky or pixelated.  \n",
    "\n",
    "- **Why do this in practice?**  \n",
    "  - Save storage and memory.  \n",
    "  - Speed up image processing tasks.  \n",
    "  - Simulate how an image looks on low-resolution devices.  "
   ]
  },
  {
   "cell_type": "code",
   "execution_count": null,
   "id": "59148780",
   "metadata": {
    "vscode": {
     "languageId": "plaintext"
    }
   },
   "outputs": [],
   "source": [
    "def downsample_image(img, factor):\n",
    "    \"\"\"Downsample an image by a given factor and then rescale back up.\"\"\"\n",
    "    small = transform.resize(img, (img.shape[0] // factor, img.shape[1] // factor), anti_aliasing=True)\n",
    "    return transform.resize(small, img.shape, anti_aliasing=False)\n",
    "\n",
    "factor = 4  # downsample by 4x\n",
    "fig, axes = plt.subplots(len(images), 2, figsize=(8, 12))\n",
    "\n",
    "for i, (name, img) in enumerate(images.items()):\n",
    "    downsampled = downsample_image(img, factor)\n",
    "    axes[i, 0].imshow(img, cmap=\"gray\")\n",
    "    axes[i, 0].set_title(f\"{name} - Original\")\n",
    "    axes[i, 1].imshow(downsampled, cmap=\"gray\")\n",
    "    axes[i, 1].set_title(f\"{name} - Downsampled (factor {factor})\")\n",
    "\n",
    "    for ax in axes[i]:\n",
    "        ax.axis(\"off\")\n",
    "\n",
    "plt.tight_layout()\n",
    "plt.show()"
   ]
  },
  {
   "cell_type": "markdown",
   "id": "618f4fd6",
   "metadata": {},
   "source": [
    "## Part 2: SVD Truncation (Dropping Singular Values)\n",
    "\n",
    "This is a mathematical method for reducing detail.  \n",
    "Instead of changing pixel resolution, we drop smaller singular values from the decomposition.\n",
    "\n",
    "- **What’s happening?**  \n",
    "  Large singular values keep overall structure and shapes.  \n",
    "  Small singular values hold fine details and noise.  \n",
    "  Dropping them smooths the image.  \n",
    "\n",
    "- **Why do this in practice?**  \n",
    "  - Image compression (store fewer numbers).  \n",
    "  - Denoising (remove small, noisy singular values).  \n",
    "  - Feature extraction (keep only the strongest patterns).  "
   ]
  },
  {
   "cell_type": "code",
   "execution_count": null,
   "id": "a7eb5ad8",
   "metadata": {
    "vscode": {
     "languageId": "plaintext"
    }
   },
   "outputs": [],
   "source": [
    "def svd_truncate(img, keep_k):\n",
    "    \"\"\"Reconstruct image using only the top k singular values.\"\"\"\n",
    "    U, S, Vt = compute_svd(img)\n",
    "    S_trunc = np.zeros_like(S)\n",
    "    S_trunc[:keep_k] = S[:keep_k]\n",
    "    return reconstruct_matrix(U, S_trunc, Vt)\n",
    "\n",
    "k = 50  # number of singular values to keep\n",
    "fig, axes = plt.subplots(len(images), 2, figsize=(8, 12))\n",
    "\n",
    "for i, (name, img) in enumerate(images.items()):\n",
    "    svd_recon = svd_truncate(img, k)\n",
    "    axes[i, 0].imshow(img, cmap=\"gray\")\n",
    "    axes[i, 0].set_title(f\"{name} - Original\")\n",
    "    axes[i, 1].imshow(svd_recon, cmap=\"gray\")\n",
    "    axes[i, 1].set_title(f\"{name} - SVD Truncation (k={k})\")\n",
    "\n",
    "    for ax in axes[i]:\n",
    "        ax.axis(\"off\")\n",
    "\n",
    "plt.tight_layout()\n",
    "plt.show()"
   ]
  },
  {
   "cell_type": "markdown",
   "id": "85720925",
   "metadata": {},
   "source": [
    "## Part 3: Side-by-Side Comparison\n",
    "\n",
    "Now, let’s put both methods together.  \n",
    "You’ll see that:\n",
    "\n",
    "- **Downsampling** → blocky, pixelated look.  \n",
    "- **SVD truncation** → smooth, blurry look.  \n",
    "\n",
    "Both lose detail, but in different ways.  "
   ]
  },
  {
   "cell_type": "code",
   "execution_count": null,
   "id": "18f4196d",
   "metadata": {
    "vscode": {
     "languageId": "plaintext"
    }
   },
   "outputs": [],
   "source": [
    "factor = 4\n",
    "k = 50\n",
    "\n",
    "fig, axes = plt.subplots(len(images), 3, figsize=(12, 12))\n",
    "\n",
    "for i, (name, img) in enumerate(images.items()):\n",
    "    downsampled = downsample_image(img, factor)\n",
    "    svd_recon = svd_truncate(img, k)\n",
    "\n",
    "    axes[i, 0].imshow(img, cmap=\"gray\")\n",
    "    axes[i, 0].set_title(f\"{name} - Original\")\n",
    "\n",
    "    axes[i, 1].imshow(downsampled, cmap=\"gray\")\n",
    "    axes[i, 1].set_title(\"Downsampled\")\n",
    "\n",
    "    axes[i, 2].imshow(svd_recon, cmap=\"gray\")\n",
    "    axes[i, 2].set_title(f\"SVD Truncated (k={k})\")\n",
    "\n",
    "    for ax in axes[i]:\n",
    "        ax.axis(\"off\")\n",
    "\n",
    "plt.tight_layout()\n",
    "plt.show()\n"
   ]
  },
  {
   "cell_type": "markdown",
   "id": "a4e34ea2",
   "metadata": {},
   "source": [
    "# Final Discussion\n",
    "\n",
    "### What can we learn?\n",
    "\n",
    "- **Pixel Downsampling** reduces resolution directly.  \n",
    "  - Fast, simple, and widely used.  \n",
    "  - Produces blocky, pixelated results.  \n",
    "  - Useful for storage savings, ML preprocessing, or simulating low-res devices.  \n",
    "\n",
    "- **SVD Truncation** reduces *detail* rather than pixel count.  \n",
    "  - Keeps structure, loses fine detail.  \n",
    "  - Produces smoother, blurred images.  \n",
    "  - Useful for compression, denoising, and analysis.  \n",
    "\n",
    "---\n",
    "\n",
    "### When to use each?\n",
    "- Use **downsampling** when you care about resolution, file size, or speed.  \n",
    "- Use **SVD truncation** when you want to smooth/compress while keeping the main structure intact.  \n",
    "\n",
    "Together, they show two complementary ways of \"de-enhancement\":  \n",
    "one pixel-based, one linear-algebra-based."
   ]
  }
 ],
 "metadata": {
  "kernelspec": {
   "display_name": "Python 3 (ipykernel)",
   "language": "python",
   "name": "python3"
  },
  "language_info": {
   "codemirror_mode": {
    "name": "ipython",
    "version": 3
   },
   "file_extension": ".py",
   "mimetype": "text/x-python",
   "name": "python",
   "nbconvert_exporter": "python",
   "pygments_lexer": "ipython3",
   "version": "3.11.13"
  }
 },
 "nbformat": 4,
 "nbformat_minor": 5
}
