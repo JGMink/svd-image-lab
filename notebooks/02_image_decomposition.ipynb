{
 "cells": [
  {
   "cell_type": "markdown",
   "metadata": {},
   "source": [
    "# Image Decomposition using SVD\n",
    "\n",
    "In this notebook, we will demonstrate how to use Singular Value Decomposition (SVD) for image decomposition. SVD is a powerful technique in linear algebra that can be used for various applications, including image compression and noise reduction.\n",
    "\n",
    "## Overview of SVD\n",
    "\n",
    "Given a matrix \( A \) (in our case, an image), SVD allows us to decompose it into three matrices:\n",
    "\n",
    "\\[ A = U \\Sigma V^T \\]\n",
    "\n",
    "- \( U \) contains the left singular vectors.\n",
    "- \( \\Sigma \) is a diagonal matrix containing singular values.\n",
    "- \( V^T \) contains the right singular vectors.\n",
    "\n",
    "By truncating the matrices \( U \), \( \\Sigma \), and \( V^T \), we can reconstruct an approximation of the original image with reduced rank, which can lead to compression.\n",
    "\n",
    "## Steps to Decompose an Image\n",
    "1. Load the image.\n",
    "2. Convert the image to grayscale (if necessary).\n",
    "3. Apply SVD to the image matrix.\n",
    "4. Reconstruct the image using a specified number of singular values.\n",
    "5. Visualize the original and decomposed images.\n",
    "\n",
    "## Example\n",
    "Let's start by importing the necessary libraries and loading an image."
   ]
  },
  {
   "cell_type": "code",
   "execution_count": null,
   "metadata": {},
   "outputs": [],
   "source": [
    "import numpy as np\n",
    "import matplotlib.pyplot as plt\n",
    "from skimage import io, color\n",
    "\n",
    "# Load the image\n",
    "image = io.imread('../examples/lena_original.png')\n",
    "image_gray = color.rgb2gray(image)\n",
    "\n",
    "# Display the original image\n",
    "plt.imshow(image_gray, cmap='gray')\n",
    "plt.title('Original Image')\n",
    "plt.axis('off')\n",
    "plt.show()"
   ]
  },
  {
   "cell_type": "markdown",
   "metadata": {},
   "source": [
    "Now that we have loaded and displayed the original image, let's apply SVD to the grayscale image."
   ]
  },
  {
   "cell_type": "code",
   "execution_count": null,
   "metadata": {},
   "outputs": [],
   "source": [
    "# Apply SVD\n",
    "U, S, Vt = np.linalg.svd(image_gray, full_matrices=False)\n",
    "\n",
    "# S is returned as a 1D array, convert it to a diagonal matrix\n",
    "S_matrix = np.diag(S)\n",
    "\n",
    "# Let's reconstruct the image using a specified number of singular values\n",
    "def reconstruct_image(U, S, Vt, k):\n",
    "    return np.dot(U[:, :k], np.dot(S_matrix[:k, :k], Vt[:k, :]))\n",
    "\n",
    "# Example: Reconstruct using the top 50 singular values\n",
    "k = 50\n",
    "image_reconstructed_k50 = reconstruct_image(U, S, Vt, k)\n",
    "\n",
    "# Display the reconstructed image\n",
    "plt.imshow(image_reconstructed_k50, cmap='gray')\n",
    "plt.title(f'Reconstructed Image with k={k}')\n",
    "plt.axis('off')\n",
    "plt.show()"
   ]
  },
  {
   "cell_type": "markdown",
   "metadata": {},
   "source": [
    "We have successfully reconstructed the image using the top 50 singular values. Now, let's visualize the effect of using different numbers of singular values on the image quality."
   ]
  },
  {
   "cell_type": "code",
   "execution_count": null,
   "metadata": {},
   "outputs": [],
   "source": [
    "k_values = [10, 30, 50, 100]\n",
    "reconstructed_images = []\n",
    "\n",
    "for k in k_values:\n",
    "    reconstructed_images.append(reconstruct_image(U, S, Vt, k))\n",
    "\n",
    "# Plot the original and reconstructed images\n",
    "plt.figure(figsize=(12, 8))\n",
    "plt.subplot(2, 3, 1)\n",
    "plt.imshow(image_gray, cmap='gray')\n",
    "plt.title('Original Image')\n",
    "plt.axis('off')\n"
  },
  {
   "cell_type": "code",
   "execution_count": null,
   "metadata": {},
   "outputs": [],
   "source": [
    "for i, k in enumerate(k_values):\n",
    "    plt.subplot(2, 3, i + 2)\n",
    "    plt.imshow(reconstructed_images[i], cmap='gray')\n",
    "    plt.title(f'Reconstructed Image with k={k}')\n",
    "    plt.axis('off')\n",
    "\n",
    "plt.tight_layout()\n",
    "plt.show()"
   ]
  },
  {
   "cell_type": "markdown",
   "metadata": {},
   "source": [
    "In the above visualization, we can see how the quality of the reconstructed image changes with different values of \( k \). As \( k \) increases, the reconstructed image becomes closer to the original image.\n",
    "\n",
    "## Conclusion\n",
    "In this notebook, we demonstrated how to use SVD for image decomposition. We explored the impact of different numbers of singular values on the quality of the reconstructed image. This technique can be further applied for image compression and noise reduction."
   ]
  }
 ],
 "metadata": {
  "kernelspec": {
   "display_name": "Python 3",
   "language": "python",
   "name": "python3"
  },
  "language_info": {
   "codemirror_mode": {
    "name": "ipython",
    "version": 3
   },
   "file_extension": ".py",
   "mimetype": "text/x-python",
   "name": "python",
   "nbconvert_exporter": "python",
   "pygments_lexer": "ipython3",
   "version": "3.8.5"
  }
 },
 "nbformat": 4,
 "nbformat_minor": 4
}