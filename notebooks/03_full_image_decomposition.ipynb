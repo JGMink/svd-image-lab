{
 "cells": [
  {
   "cell_type": "markdown",
   "id": "4b220f15",
   "metadata": {},
   "source": [
    "# Singular Value Decomposition on Images: Dropping Singular Values\n",
    "\n",
    "In the previous notebook, we demonstrated SVD on a small numeric matrix.  \n",
    "Now, let’s see how dropping singular values affects a **real grayscale image**.\n",
    "\n",
    "This connects directly to image compression and de-enhancement: by discarding smaller singular values, we lose fine details but retain the overall structure of the image."
   ]
  },
  {
   "cell_type": "code",
   "execution_count": null,
   "id": "38fe01d1",
   "metadata": {},
   "outputs": [],
   "source": [
    "import numpy as np\n",
    "import matplotlib.pyplot as plt\n",
    "from skimage import data\n",
    "\n",
    "# Load a sample grayscale image (512x512 cameraman)\n",
    "image = data.camera()\n",
    "\n",
    "plt.imshow(image, cmap='gray')\n",
    "plt.title(\"Original Image\")\n",
    "plt.axis('off')\n",
    "plt.show()\n",
    "\n",
    "print(\"Image shape:\", image.shape)"
   ]
  },
  {
   "cell_type": "markdown",
   "id": "29c45e2b",
   "metadata": {},
   "source": [
    "## Step 1: Perform SVD\n",
    "\n",
    "We’ll decompose the image matrix into U, Σ, and Vᵀ."
   ]
  },
  {
   "cell_type": "code",
   "execution_count": null,
   "id": "f9c56455",
   "metadata": {},
   "outputs": [],
   "source": [
    "U, S, VT = np.linalg.svd(image, full_matrices=False)\n",
    "\n",
    "print(\"Number of singular values:\", len(S))"
   ]
  },
  {
   "cell_type": "markdown",
   "id": "0c04292f",
   "metadata": {},
   "source": [
    "## Step 2: Visualize Singular Values\n",
    "\n",
    "As before, we plot the singular values to see their relative importance.  \n",
    "Notice how the first few are much larger — these capture most of the image’s structure."
   ]
  },
  {
   "cell_type": "code",
   "execution_count": null,
   "id": "113f618f",
   "metadata": {},
   "outputs": [],
   "source": [
    "plt.figure(figsize=(8, 4))\n",
    "plt.semilogy(S, marker='o')  # log scale to better see the decay\n",
    "plt.title(\"Singular Values of the Image\")\n",
    "plt.xlabel(\"Index\")\n",
    "plt.ylabel(\"Singular Value (log scale)\")\n",
    "plt.grid(True)\n",
    "plt.show()"
   ]
  },
  {
   "cell_type": "markdown",
   "id": "6cd9dcde",
   "metadata": {},
   "source": [
    "## Step 3: Reconstruct with Fewer Singular Values\n",
    "\n",
    "We’ll reconstruct the image using:\n",
    "- **k = 512 (all values)** → perfect reconstruction  \n",
    "- **k = 50** → high compression, still recognizable  \n",
    "- **k = 10** → only the roughest structure remains  \n",
    "- **k = 5** → image becomes very blurry  "
   ]
  },
  {
   "cell_type": "code",
   "execution_count": null,
   "id": "3d046f97",
   "metadata": {},
   "outputs": [],
   "source": [
    "def reconstruct(U, S, VT, k):\n",
    "    U_k = U[:, :k]\n",
    "    S_k = np.diag(S[:k])\n",
    "    VT_k = VT[:k, :]\n",
    "    return U_k @ S_k @ VT_k\n",
    "\n",
    "# Try different levels of compression\n",
    "k_values = [512, 50, 10, 5]\n",
    "reconstructions = [reconstruct(U, S, VT, k) for k in k_values]"
   ]
  },
  {
   "cell_type": "markdown",
   "id": "b54abf2b",
   "metadata": {},
   "source": [
    "## Step 4: Compare Reconstructions"
   ]
  },
  {
   "cell_type": "code",
   "execution_count": null,
   "id": "6d044a9a",
   "metadata": {},
   "outputs": [],
   "source": [
    "fig, axs = plt.subplots(1, len(k_values)+1, figsize=(18, 6))\n",
    "\n",
    "axs[0].imshow(image, cmap='gray')\n",
    "axs[0].set_title(\"Original\")\n",
    "axs[0].axis('off')\n",
    "\n",
    "for i, (k, recon) in enumerate(zip(k_values, reconstructions)):\n",
    "    axs[i+1].imshow(recon, cmap='gray')\n",
    "    axs[i+1].set_title(f\"k={k}\")\n",
    "    axs[i+1].axis('off')\n",
    "\n",
    "plt.show()\n"
   ]
  },
  {
   "cell_type": "markdown",
   "id": "105c5291",
   "metadata": {},
   "source": [
    "## Observations\n",
    "\n",
    "- **k = all values (512):** Perfect reconstruction — identical to the original.  \n",
    "- **k = 50:** Clear image, only fine textures missing.  \n",
    "- **k = 10:** Still recognizable, but blurry and lacking detail.  \n",
    "- **k = 5:** Most detail lost, only the rough outline remains.  \n",
    "\n",
    "This demonstrates how SVD enables a trade-off between **file size (compression)** and **image clarity (detail retention)**."
   ]
  }
 ],
 "metadata": {
  "language_info": {
   "name": "python"
  }
 },
 "nbformat": 4,
 "nbformat_minor": 5
}
