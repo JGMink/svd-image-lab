{
 "cells": [
  {
   "cell_type": "markdown",
   "metadata": {},
   "source": [
    "# Singular Value Decomposition (SVD) Basics\n",
    "\n",
    "In this notebook, we will introduce the concept of Singular Value Decomposition (SVD), a powerful mathematical tool used in various applications including image processing, data compression, and noise reduction.\n",
    "\n",
    "## What is SVD?\n",
    "\n",
    "SVD is a factorization of a real or complex matrix. It is expressed as:\n",
    "\n",
    "\\[ A = U \\Sigma V^T \\]\n",
    "\n",
    "Where:\n",
    "- **A** is the original matrix.\n",
    "- **U** is an orthogonal matrix whose columns are the left singular vectors.\n",
    "- **\\Sigma** is a diagonal matrix containing the singular values.\n",
    "- **V^T** is the transpose of an orthogonal matrix whose columns are the right singular vectors.\n",
    "\n",
    "## Applications of SVD\n",
    "- Image compression\n",
    "- Noise reduction\n",
    "- Latent Semantic Analysis in Natural Language Processing\n",
    "\n",
    "## Example: SVD on a Simple Matrix\n",
    "Let's start by performing SVD on a simple matrix and visualizing the results."
   ]
  },
  {
   "cell_type": "code",
   "execution_count": null,
   "metadata": {},
   "outputs": [],
   "source": [
    "import numpy as np\n",
    "import matplotlib.pyplot as plt\n",
    "\n",
    "# Create a simple matrix\n",
    "A = np.array([[1, 2, 3],\n",
    "              [4, 5, 6],\n",
    "              [7, 8, 9]])\n",
    "\n",
    "# Perform SVD\n",
    "U, S, VT = np.linalg.svd(A)\n",
    "\n",
    "print(\"U:\")\n",
    "print(U)\n",
    "print(\"\\nSingular values (vector form):\")\n",
    "print(S)\n",
    "print(\"\\nV^T:\")\n",
    "print(VT)\n",
    "\n",
    "# Convert S into a diagonal matrix (Sigma)\n",
    "Sigma = np.diag(S)\n",
    "print(\"\\nSigma (diagonal matrix):\")\n",
    "print(Sigma)\n"
   ]
  },
  {
   "cell_type": "markdown",
   "metadata": {},
   "source": [
    "## Reconstructing the Matrix\n",
    "When we use every singular value, the reconstructed matrix is mathematically identical to the original. This shows that SVD is a factorization, not a lossy process. It only becomes an approximation (and therefore useful for compression) when we drop some singular values."
   ]
  },
  {
   "cell_type": "code",
   "execution_count": null,
   "metadata": {},
   "outputs": [],
   "source": [
    "# Reconstruct A using U, Sigma, and VT\n",
    "A_reconstructed = U @ Sigma @ VT\n",
    "\n",
    "print(\"\\nReconstructed A:\")\n",
    "print(np.round(A_reconstructed, 2))  # Rounded for readability\n",
    "\n",
    "# Check closeness\n",
    "print(\"\\nIs reconstruction close to original? ->\", np.allclose(A, A_reconstructed))\n"
   ]
  },
  {
   "cell_type": "markdown",
   "metadata": {},
   "source": [
    "## Visualizing Singular Values\n",
    "The plot of singular values (y-axis) against their index (x-axis) shows how the “importance” of each component decreases. Even though we are using all the singular values in reconstruction here, the plot helps us see which values dominate and which contribute very little."
   ]
  },
  {
   "cell_type": "code",
   "execution_count": null,
   "metadata": {},
   "outputs": [],
   "source": [
    "# Plot singular values\n",
    "plt.figure(figsize=(8, 4))\n",
    "plt.plot(S, marker='o')\n",
    "plt.title('Singular Values')\n",
    "plt.xlabel('Index')\n",
    "plt.ylabel('Value')\n",
    "plt.grid(True)\n",
    "plt.show()"
   ]
  },
  {
   "cell_type": "markdown",
   "metadata": {},
   "source": [
    "## Visualizing the Matrix as an Image\n",
    "By displaying the original matrix (or image) and the reconstruction from all singular values side by side, we confirm that the decomposition and reconstruction steps do not change the data. This serves as a baseline before we experiment with dropping values."
   ]
  },
  {
   "cell_type": "code",
   "execution_count": null,
   "metadata": {},
   "outputs": [],
   "source": [
    "plt.figure(figsize=(10,4))\n",
    "\n",
    "plt.subplot(1, 2, 1)\n",
    "plt.imshow(A, cmap='gray')\n",
    "plt.title(\"Original Matrix\")\n",
    "plt.colorbar()\n",
    "\n",
    "plt.subplot(1, 2, 2)\n",
    "plt.imshow(A_reconstructed, cmap='gray')\n",
    "plt.title(\"Reconstructed Matrix\")\n",
    "plt.colorbar()\n",
    "\n",
    "plt.show()\n"
   ]
  },
  {
   "cell_type": "markdown",
   "metadata": {},
   "source": [
    "## Conclusion\n",
    "In this notebook, we introduced the basics of Singular Value Decomposition (SVD) and demonstrated how to perform SVD on a simple matrix. We also visualized the singular values, which are crucial for understanding the structure of the data.\n",
    "\n",
    "In the next notebook, we will explore how to apply SVD for image decomposition."
   ]
  }
 ],
 "metadata": {
  "kernelspec": {
   "display_name": "Python 3",
   "language": "python",
   "name": "python3"
  },
  "language_info": {
   "codemirror_mode": {
    "name": "ipython",
    "version": 3
   },
   "file_extension": ".py",
   "mimetype": "text/x-python",
   "name": "python",
   "nbconvert_exporter": "python",
   "pygments_lexer": "ipython3",
   "version": "3.8.5"
  }
 },
 "nbformat": 4,
 "nbformat_minor": 4
}
