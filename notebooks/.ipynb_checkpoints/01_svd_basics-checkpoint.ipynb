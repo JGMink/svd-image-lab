{
 "cells": [
  {
   "cell_type": "markdown",
   "metadata": {},
   "source": [
    "# Singular Value Decomposition (SVD) Basics\n",
    "\n",
    "In this notebook, we will introduce the concept of Singular Value Decomposition (SVD), a powerful mathematical tool used in various applications including image processing, data compression, and noise reduction.\n",
    "\n",
    "## What is SVD?\n",
    "\n",
    "SVD is a factorization of a real or complex matrix. It is expressed as:\n",
    "\n",
    "\\[ A = U \\Sigma V^T \\]\n",
    "\n",
    "Where:\n",
    "- **A** is the original matrix.\n",
    "- **U** is an orthogonal matrix whose columns are the left singular vectors.\n",
    "- **\\Sigma** is a diagonal matrix containing the singular values.\n",
    "- **V^T** is the transpose of an orthogonal matrix whose columns are the right singular vectors.\n",
    "\n",
    "## Applications of SVD\n",
    "- Image compression\n",
    "- Noise reduction\n",
    "- Latent Semantic Analysis in Natural Language Processing\n",
    "\n",
    "## Example: SVD on a Simple Matrix\n",
    "Let's start by performing SVD on a simple matrix and visualizing the results."
   ]
  },
  {
   "cell_type": "code",
   "execution_count": null,
   "metadata": {},
   "outputs": [],
   "source": [
    "import numpy as np\n",
    "import matplotlib.pyplot as plt\n",
    "\n",
    "# Create a simple matrix\n",
    "A = np.array([[1, 2, 3],\n",
    "              [4, 5, 6],\n",
    "              [7, 8, 9]])\n",
    "\n",
    "# Perform SVD\n",
    "U, S, VT = np.linalg.svd(A)\n",
    "\n",
    "# Display the results\n",
    "print(\"U:\")\n",
    "print(U)\n",
    "print(\"\\nS:\")\n",
    "print(S)\n",
    "print(\"\\nVT:\")\n",
    "print(VT)"
   ]
  },
  {
   "cell_type": "markdown",
   "metadata": {},
   "source": [
    "## Visualizing Singular Values\n",
    "The singular values can provide insight into the importance of each dimension in the data. Let's plot the singular values obtained from the SVD."
   ]
  },
  {
   "cell_type": "code",
   "execution_count": null,
   "metadata": {},
   "outputs": [],
   "source": [
    "# Plot singular values\n",
    "plt.figure(figsize=(8, 4))\n",
    "plt.plot(S, marker='o')\n",
    "plt.title('Singular Values')\n",
    "plt.xlabel('Index')\n",
    "plt.ylabel('Singular Value')\n",
    "plt.grid(True)\n",
    "plt.show()"
   ]
  },
  {
   "cell_type": "markdown",
   "metadata": {},
   "source": [
    "## Conclusion\n",
    "In this notebook, we introduced the basics of Singular Value Decomposition (SVD) and demonstrated how to perform SVD on a simple matrix. We also visualized the singular values, which are crucial for understanding the structure of the data.\n",
    "\n",
    "In the next notebook, we will explore how to apply SVD for image decomposition."
   ]
  }
 ],
 "metadata": {
  "kernelspec": {
   "display_name": "Python 3",
   "language": "python",
   "name": "python3"
  },
  "language_info": {
   "codemirror_mode": {
    "name": "ipython",
    "version": 3
   },
   "file_extension": ".py",
   "mimetype": "text/x-python",
   "name": "python",
   "nbconvert_exporter": "python",
   "pygments_lexer": "ipython3",
   "version": "3.8.5"
  }
 },
 "nbformat": 4,
 "nbformat_minor": 4
}