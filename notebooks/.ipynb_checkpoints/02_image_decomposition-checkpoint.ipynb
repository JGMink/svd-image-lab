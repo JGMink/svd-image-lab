{
 "cells": [
  {
   "cell_type": "markdown",
   "id": "738bf741",
   "metadata": {},
   "source": [
    "# Singular Value Decomposition with Dropped Values\n",
    "\n",
    "In the previous notebook, we saw that using **all** singular values allows us to perfectly reconstruct the original matrix.  \n",
    "Now, we'll explore what happens when we intentionally **drop some singular values** and rebuild the matrix with fewer components.\n",
    "\n",
    "This is the foundation of **compression** (keeping the most important singular values) and **de-enhancement** (intentionally discarding detail).\n",
    "\n",
    "--"
   ]
  },
  {
   "cell_type": "code",
   "execution_count": null,
   "id": "a4ac8068",
   "metadata": {},
   "outputs": [],
   "source": [
    "import numpy as np\n",
    "import matplotlib.pyplot as plt\n",
    "\n",
    "# Create a 7x7 matrix with some structure\n",
    "A = np.array([\n",
    "    [10, 20, 30, 40, 50, 60, 70],\n",
    "    [15, 25, 35, 45, 55, 65, 75],\n",
    "    [20, 30, 40, 50, 60, 70, 80],\n",
    "    [25, 35, 45, 55, 65, 75, 85],\n",
    "    [30, 40, 50, 60, 70, 80, 90],\n",
    "    [35, 45, 55, 65, 75, 85, 95],\n",
    "    [40, 50, 60, 70, 80, 90, 100]\n",
    "])\n",
    "\n",
    "# Perform SVD\n",
    "U, S, VT = np.linalg.svd(A, full_matrices=False)\n",
    "\n",
    "print(\"Original singular values:\")\n",
    "print(S)\n"
   ]
  },
  {
   "cell_type": "markdown",
   "id": "8d2d5027",
   "metadata": {},
   "source": [
    "## Visualizing Singular Values\n",
    "\n",
    "As before, let's plot the singular values.  \n",
    "Notice how they decrease in size — the first few are much larger, meaning they capture most of the matrix’s structure."
   ]
  },
  {
   "cell_type": "code",
   "execution_count": null,
   "id": "7bdedba6",
   "metadata": {},
   "outputs": [],
   "source": [
    "plt.figure(figsize=(8, 4))\n",
    "plt.plot(S, marker='o')\n",
    "plt.title('Singular Values of the 7x7 Matrix')\n",
    "plt.xlabel('Index')\n",
    "plt.ylabel('Singular Value')\n",
    "plt.grid(True)\n",
    "plt.show()\n"
   ]
  },
  {
   "cell_type": "markdown",
   "id": "28136f85",
   "metadata": {},
   "source": [
    "## Reconstructing with Fewer Singular Values\n",
    "\n",
    "Now, let's try reconstructing the matrix with:\n",
    "- **k = 7** (all values → perfect reconstruction)  \n",
    "- **k = 3** (only the top 3 singular values)  \n",
    "- **k = 1** (only the most important singular value)  \n",
    "\n",
    "This will let us see how much detail we lose as we drop smaller values."
   ]
  },
  {
   "cell_type": "code",
   "execution_count": null,
   "id": "3a1991f9",
   "metadata": {},
   "outputs": [],
   "source": [
    "def reconstruct(U, S, VT, k):\n",
    "    U_k = U[:, :k]\n",
    "    S_k = np.diag(S[:k])\n",
    "    VT_k = VT[:k, :]\n",
    "    return U_k @ S_k @ VT_k\n",
    "\n",
    "# Reconstruct with different k\n",
    "A_k7 = reconstruct(U, S, VT, 7)\n",
    "A_k3 = reconstruct(U, S, VT, 3)\n",
    "A_k1 = reconstruct(U, S, VT, 1)"
   ]
  },
  {
   "cell_type": "markdown",
   "id": "459bbe6b",
   "metadata": {},
   "source": [
    "## Comparing Reconstructions\n",
    "\n",
    "We’ll plot the original matrix and the reconstructions side by side."
   ]
  },
  {
   "cell_type": "code",
   "execution_count": null,
   "id": "4752498d",
   "metadata": {},
   "outputs": [],
   "source": [
    "fig, axs = plt.subplots(1, 4, figsize=(16, 4))\n",
    "\n",
    "axs[0].imshow(A, cmap='gray')\n",
    "axs[0].set_title(\"Original\")\n",
    "axs[0].axis('off')\n",
    "\n",
    "axs[1].imshow(A_k7, cmap='gray')\n",
    "axs[1].set_title(\"k=7 (All Values)\")\n",
    "axs[1].axis('off')\n",
    "\n",
    "axs[2].imshow(A_k3, cmap='gray')\n",
    "axs[2].set_title(\"k=3\")\n",
    "axs[2].axis('off')\n",
    "\n",
    "axs[3].imshow(A_k1, cmap='gray')\n",
    "axs[3].set_title(\"k=1\")\n",
    "axs[3].axis('off')\n",
    "\n",
    "plt.show()\n"
   ]
  },
  {
   "cell_type": "markdown",
   "id": "50c24705",
   "metadata": {},
   "source": [
    "## Observations\n",
    "\n",
    "- **k=7 (all values):** Exact reconstruction of the original.  \n",
    "- **k=3:** Structure is mostly preserved, but fine details are lost.  \n",
    "- **k=1:** Only the dominant structure remains; much of the detail is gone.  \n",
    "\n",
    "This experiment shows how SVD allows us to balance between **accuracy** (using more singular values) and **simplicity** (using fewer singular values).\n",
    "\n",
    "In the next step, we’ll apply this to **real images**, where dropping singular values results in visible compression or intentional de-enhancement."
   ]
  }
 ],
 "metadata": {
  "language_info": {
   "name": "python"
  }
 },
 "nbformat": 4,
 "nbformat_minor": 5
}
